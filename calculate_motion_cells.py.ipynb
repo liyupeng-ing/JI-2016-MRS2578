{
 "cells": [
  {
   "cell_type": "markdown",
   "metadata": {},
   "source": [
    "# Calculate average dx and average dy for video of cells\n",
    "\n",
    "Computes a dense optical flow using the Gunnar Farneback’s algorithm:\n",
    "\n",
    "Gunnar Farneback, Two-frame motion estimation based on polynomial expansion, Lecture Notes in Computer Science, 2003, (2749), , 363-370.\n",
    "\n",
    "\n",
    "Units of velocity are, I believe, Pixels/Frame."
   ]
  },
  {
   "cell_type": "code",
   "execution_count": 143,
   "metadata": {
    "collapsed": false
   },
   "outputs": [],
   "source": [
    "import os\n",
    "\n",
    "import cv2\n",
    "import matplotlib.pyplot as plt\n",
    "import numpy as np\n",
    "import matplotlib as mpl\n",
    "import seaborn\n",
    "    \n",
    "def get_optical_flow_at_each_time(video_filename=\"data/07062016\"):\n",
    "    \"\"\" Given a video filename, return dx's and dy's for each time point\"\"\"\n",
    "    mean_dxs = []\n",
    "    mean_dys = []\n",
    "\n",
    "    cap = cv2.VideoCapture(video_filename)\n",
    "\n",
    "    ret, frame1 = cap.read()\n",
    "\n",
    "    prvs = cv2.cvtColor(frame1,cv2.COLOR_BGR2GRAY)\n",
    "    hsv = np.zeros_like(frame1)\n",
    "    hsv[...,1] = 255\n",
    "\n",
    "    while(True):\n",
    "        ret, frame2 = cap.read()\n",
    "        if not ret:\n",
    "            break\n",
    "\n",
    "        next = cv2.cvtColor(frame2,cv2.COLOR_BGR2GRAY)\n",
    "\n",
    "        flow = cv2.calcOpticalFlowFarneback(prvs,next, None, 0.5, 3, 15, 3, 5, 1.2, 0)\n",
    "\n",
    "        prvs = next\n",
    "\n",
    "        dx, dy = np.reshape(np.swapaxes(flow,0,2), (2, -1))\n",
    "\n",
    "        mean_dxs.append(np.mean(dx))\n",
    "        mean_dys.append(np.mean(dy))\n",
    "\n",
    "    return mean_dxs, mean_dys\n",
    "\n",
    "def plot_histogram(xs, ys, ticksize=12, fontsize=16, show=True):\n",
    "    \"\"\" Plot a histogram given a numeric vector\"\"\"\n",
    "    f, (ax1, ax2) = plt.subplots(1, 2, sharey=True)\n",
    "    \n",
    "    font = {'family' : 'normal',\n",
    "        'weight' : 'normal',\n",
    "        'size'   : fontsize}\n",
    "\n",
    "    mpl.rc('font', **font)\n",
    "    \n",
    "    hist, bins = np.histogram(xs, bins=10)\n",
    "    width = 0.7 * (bins[1] - bins[0])\n",
    "    center = (bins[:-1] + bins[1:]) / 2\n",
    "    ax1.bar(center, hist, align='center', width=width)\n",
    "    ax1.text(0.55, 0.8,\"mean: %.3f\" % np.mean(xs), horizontalalignment='left',\n",
    "             verticalalignment='center', transform = ax1.transAxes)\n",
    "    ax1.text(0.55, 0.72,\"stdev: %.3f\" % np.std(xs), horizontalalignment='left',\n",
    "         verticalalignment='center', transform = ax1.transAxes)\n",
    "    ax1.set_xlabel(\"delta x\", fontsize=fontsize)\n",
    "    ax1.set_ylabel(\"Frequency\", fontsize=fontsize)\n",
    "    ax2.tick_params(axis='both', which='major', labelsize=ticksize)\n",
    "    \n",
    "    hist, bins = np.histogram(ys, bins=10)\n",
    "    width = 0.7 * (bins[1] - bins[0])\n",
    "    center = (bins[:-1] + bins[1:]) / 2\n",
    "    ax2.bar(center, hist, align='center', width=width)\n",
    "    ax2.text(0.55, 0.8,\"mean: %.3f\" % np.mean(ys), horizontalalignment='left',\n",
    "             verticalalignment='center', transform = ax2.transAxes)\n",
    "    ax2.text(0.55, 0.72,\"stdev: %.3f\" % np.std(ys), horizontalalignment='left',\n",
    "         verticalalignment='center', transform = ax2.transAxes)\n",
    "    ax2.set_xlabel(\"delta y\", fontsize=fontsize)\n",
    "    ax2.tick_params(axis='both', which='major', labelsize=ticksize)\n",
    "\n",
    "    if show:\n",
    "        plt.show()\n",
    "    return f"
   ]
  },
  {
   "cell_type": "markdown",
   "metadata": {},
   "source": [
    "## Here is an example histogram\n",
    "\n",
    "I've increased the font sizes and shown the mean and stdev of the distribution."
   ]
  },
  {
   "cell_type": "code",
   "execution_count": 145,
   "metadata": {
    "collapsed": false
   },
   "outputs": [
    {
     "data": {
      "image/png": "[encoded data removed]",
      "text/plain": [
       "<matplotlib.figure.Figure at 0x7f6e506e4fd0>"
      ]
     },
     "metadata": {},
     "output_type": "display_data"
    }
   ],
   "source": [
    "filepath = \"data/07052016_Phagocytosis_DMSO.avi\"\n",
    "mean_dxs, mean_dys = get_optical_flow_at_each_time(filepath)\n",
    "fig = plot_histogram(mean_dxs, mean_dys)"
   ]
  },
  {
   "cell_type": "markdown",
   "metadata": {},
   "source": [
    "## Now lets calculate optical flow for each video and save histograms for each video\n",
    "\n",
    "For each video.avi in `data/`, a corresponding histogram.png is plotted in `histograms/` with the same filename."
   ]
  },
  {
   "cell_type": "code",
   "execution_count": 149,
   "metadata": {
    "collapsed": false
   },
   "outputs": [
    {
     "name": "stdout",
     "output_type": "stream",
     "text": [
      "Saved histogram for:  07052016_Phagocytosis_DMSO.avi\n",
      "Saved histogram for:  PMN_MSU_DMSO_08172016.avi\n",
      "Saved histogram for:  07072016_Phagocytosis_MRS2578.avi\n",
      "Saved histogram for:  07062016_Phagocytosis_MRS2578.avi\n",
      "Saved histogram for:  MRS2578_08092016_Phagocytosis.avi\n",
      "Saved histogram for:  PMN_MRS2578_08172016.avi\n",
      "Saved histogram for:  DMSO_08092016_Phagocytosis.avi\n",
      "Saved histogram for:  07072016_Phagocytosis_DMSO.avi\n",
      "Saved histogram for:  07052016_Phagocytosis_MRS2578.avi\n",
      "Saved histogram for:  07062016_Phagocytosis_DMSO.avi\n",
      "Saved histogram for:  Phagocytosis_06302016_dmso.avi\n",
      "Saved histogram for:  Phagocytosis_Mrs2578_06302016.avi\n"
     ]
    }
   ],
   "source": [
    "filenames = os.listdir(\"data/\")\n",
    "figure_format = \".png\"\n",
    "\n",
    "for filename in filenames:\n",
    "    mean_dxs, mean_dys = get_optical_flow_at_each_time(\"data/\" + filename)\n",
    "    fig = plot_histogram(mean_dxs, mean_dys, show=False)\n",
    "    fig.savefig(\"histograms/\" + os.path.splitext(filename)[0] + figure_format)\n",
    "    \n",
    "    print(\"Saved histogram for: \", filename)"
   ]
  },
  {
   "cell_type": "code",
   "execution_count": null,
   "metadata": {
    "collapsed": false
   },
   "outputs": [],
   "source": []
  },
  {
   "cell_type": "code",
   "execution_count": null,
   "metadata": {
    "collapsed": false
   },
   "outputs": [],
   "source": [
    "\n"
   ]
  },
  {
   "cell_type": "code",
   "execution_count": null,
   "metadata": {
    "collapsed": true
   },
   "outputs": [],
   "source": []
  }
 ],
 "metadata": {
  "kernelspec": {
   "display_name": "Python 3",
   "language": "python",
   "name": "python3"
  },
  "language_info": {
   "codemirror_mode": {
    "name": "ipython",
    "version": 3
   },
   "file_extension": ".py",
   "mimetype": "text/x-python",
   "name": "python",
   "nbconvert_exporter": "python",
   "pygments_lexer": "ipython3",
   "version": "3.5.1+"
  }
 },
 "nbformat": 4,
 "nbformat_minor": 1
}
